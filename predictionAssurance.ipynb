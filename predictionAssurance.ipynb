{
 "cells": [
  {
   "cell_type": "markdown",
   "metadata": {},
   "source": [
    "<font color=#010190 size = 8> Car Insurance price prediction"
   ]
  },
  {
   "cell_type": "code",
   "execution_count": 1,
   "metadata": {},
   "outputs": [],
   "source": [
    "import numpy as np\n",
    "import matplotlib.pyplot as plt\n",
    "import pandas as pd\n",
    "import re\n",
    "import unicodedata\n",
    "import seaborn as sns\n",
    "import datetime\n",
    "\n",
    "%matplotlib inline\n",
    "\n",
    "from sklearn.model_selection import train_test_split\n",
    "from sklearn.linear_model import LinearRegression\n",
    "from sklearn.ensemble import RandomForestRegressor\n",
    "from sklearn.preprocessing import StandardScaler\n",
    "from sklearn.metrics import r2_score\n",
    "\n",
    "import warnings\n",
    "warnings.filterwarnings('ignore')"
   ]
  },
  {
   "cell_type": "markdown",
   "metadata": {},
   "source": [
    "<font color=#010190 size = 5> Data understanding"
   ]
  },
  {
   "cell_type": "code",
   "execution_count": 2,
   "metadata": {},
   "outputs": [
    {
     "data": {
      "text/html": [
       "<div>\n",
       "<style scoped>\n",
       "    .dataframe tbody tr th:only-of-type {\n",
       "        vertical-align: middle;\n",
       "    }\n",
       "\n",
       "    .dataframe tbody tr th {\n",
       "        vertical-align: top;\n",
       "    }\n",
       "\n",
       "    .dataframe thead th {\n",
       "        text-align: right;\n",
       "    }\n",
       "</style>\n",
       "<table border=\"1\" class=\"dataframe\">\n",
       "  <thead>\n",
       "    <tr style=\"text-align: right;\">\n",
       "      <th></th>\n",
       "      <th>name</th>\n",
       "      <th>selling_price</th>\n",
       "      <th>year</th>\n",
       "      <th>km_driven</th>\n",
       "      <th>carrosserie</th>\n",
       "      <th>engine</th>\n",
       "      <th>fuel</th>\n",
       "      <th>seats</th>\n",
       "      <th>transmission</th>\n",
       "      <th>prix_assuran</th>\n",
       "      <th>type_ass</th>\n",
       "    </tr>\n",
       "  </thead>\n",
       "  <tbody>\n",
       "    <tr>\n",
       "      <th>0</th>\n",
       "      <td>Mini 3 portes</td>\n",
       "      <td>63,500</td>\n",
       "      <td>2016</td>\n",
       "      <td>61000</td>\n",
       "      <td>Coupé</td>\n",
       "      <td>4</td>\n",
       "      <td>Essence</td>\n",
       "      <td>5</td>\n",
       "      <td>Manuel</td>\n",
       "      <td>979336</td>\n",
       "      <td>routiere+options</td>\n",
       "    </tr>\n",
       "    <tr>\n",
       "      <th>1</th>\n",
       "      <td>Renault Laguna</td>\n",
       "      <td>64,500</td>\n",
       "      <td>2011</td>\n",
       "      <td>150,000</td>\n",
       "      <td>Berline</td>\n",
       "      <td>6</td>\n",
       "      <td>Diesel</td>\n",
       "      <td>5</td>\n",
       "      <td>Manuel</td>\n",
       "      <td>1053486</td>\n",
       "      <td>routiere+options</td>\n",
       "    </tr>\n",
       "    <tr>\n",
       "      <th>2</th>\n",
       "      <td>Volkswagen Golf 7</td>\n",
       "      <td>65,500</td>\n",
       "      <td>2016</td>\n",
       "      <td>72,000</td>\n",
       "      <td>Utilitaire</td>\n",
       "      <td>5</td>\n",
       "      <td>Essence</td>\n",
       "      <td>5</td>\n",
       "      <td>Manuel</td>\n",
       "      <td>1059209</td>\n",
       "      <td>routiere+options</td>\n",
       "    </tr>\n",
       "    <tr>\n",
       "      <th>3</th>\n",
       "      <td>Mercedes-Benz 200</td>\n",
       "      <td>66,500</td>\n",
       "      <td>2003</td>\n",
       "      <td>230,000</td>\n",
       "      <td>Berline</td>\n",
       "      <td>10</td>\n",
       "      <td>Essence</td>\n",
       "      <td>5</td>\n",
       "      <td>Manuel</td>\n",
       "      <td>1133332</td>\n",
       "      <td>routiere+options</td>\n",
       "    </tr>\n",
       "    <tr>\n",
       "      <th>4</th>\n",
       "      <td>Toyota GT86</td>\n",
       "      <td>67,500</td>\n",
       "      <td>2014</td>\n",
       "      <td>49,000</td>\n",
       "      <td>Utilitaire</td>\n",
       "      <td>12</td>\n",
       "      <td>Essence</td>\n",
       "      <td>5</td>\n",
       "      <td>Manuel</td>\n",
       "      <td>1509536</td>\n",
       "      <td>dommage et collision</td>\n",
       "    </tr>\n",
       "  </tbody>\n",
       "</table>\n",
       "</div>"
      ],
      "text/plain": [
       "                name selling_price  year km_driven carrosserie  engine  \\\n",
       "0      Mini 3 portes        63,500  2016     61000       Coupé       4   \n",
       "1     Renault Laguna        64,500  2011   150,000     Berline       6   \n",
       "2  Volkswagen Golf 7        65,500  2016    72,000  Utilitaire       5   \n",
       "3  Mercedes-Benz 200        66,500  2003   230,000     Berline      10   \n",
       "4        Toyota GT86        67,500  2014    49,000  Utilitaire      12   \n",
       "\n",
       "      fuel  seats transmission  prix_assuran              type_ass  \n",
       "0  Essence      5       Manuel        979336      routiere+options  \n",
       "1   Diesel      5       Manuel       1053486      routiere+options  \n",
       "2  Essence      5       Manuel       1059209      routiere+options  \n",
       "3  Essence      5       Manuel       1133332      routiere+options  \n",
       "4  Essence      5       Manuel       1509536  dommage et collision  "
      ]
     },
     "execution_count": 2,
     "metadata": {},
     "output_type": "execute_result"
    }
   ],
   "source": [
    "dfassu = pd.read_csv(\"baseautoAssurance.csv\")\n",
    "dfassu.head(5)"
   ]
  },
  {
   "cell_type": "code",
   "execution_count": 3,
   "metadata": {},
   "outputs": [
    {
     "data": {
      "text/html": [
       "<div>\n",
       "<style scoped>\n",
       "    .dataframe tbody tr th:only-of-type {\n",
       "        vertical-align: middle;\n",
       "    }\n",
       "\n",
       "    .dataframe tbody tr th {\n",
       "        vertical-align: top;\n",
       "    }\n",
       "\n",
       "    .dataframe thead th {\n",
       "        text-align: right;\n",
       "    }\n",
       "</style>\n",
       "<table border=\"1\" class=\"dataframe\">\n",
       "  <thead>\n",
       "    <tr style=\"text-align: right;\">\n",
       "      <th></th>\n",
       "      <th>name</th>\n",
       "      <th>selling_price</th>\n",
       "      <th>year</th>\n",
       "      <th>km_driven</th>\n",
       "      <th>carrosserie</th>\n",
       "      <th>engine</th>\n",
       "      <th>fuel</th>\n",
       "      <th>seats</th>\n",
       "      <th>transmission</th>\n",
       "      <th>prix_assuran</th>\n",
       "      <th>type_ass</th>\n",
       "    </tr>\n",
       "  </thead>\n",
       "  <tbody>\n",
       "    <tr>\n",
       "      <th>count</th>\n",
       "      <td>184</td>\n",
       "      <td>184</td>\n",
       "      <td>184.000000</td>\n",
       "      <td>184</td>\n",
       "      <td>184</td>\n",
       "      <td>184.000000</td>\n",
       "      <td>184</td>\n",
       "      <td>184.0</td>\n",
       "      <td>184</td>\n",
       "      <td>1.840000e+02</td>\n",
       "      <td>184</td>\n",
       "    </tr>\n",
       "    <tr>\n",
       "      <th>unique</th>\n",
       "      <td>100</td>\n",
       "      <td>184</td>\n",
       "      <td>NaN</td>\n",
       "      <td>109</td>\n",
       "      <td>10</td>\n",
       "      <td>NaN</td>\n",
       "      <td>2</td>\n",
       "      <td>NaN</td>\n",
       "      <td>2</td>\n",
       "      <td>NaN</td>\n",
       "      <td>3</td>\n",
       "    </tr>\n",
       "    <tr>\n",
       "      <th>top</th>\n",
       "      <td>Volkswagen Golf 7</td>\n",
       "      <td>63,500</td>\n",
       "      <td>NaN</td>\n",
       "      <td>150,000</td>\n",
       "      <td>Berline</td>\n",
       "      <td>NaN</td>\n",
       "      <td>Essence</td>\n",
       "      <td>NaN</td>\n",
       "      <td>Automatic</td>\n",
       "      <td>NaN</td>\n",
       "      <td>tout risque</td>\n",
       "    </tr>\n",
       "    <tr>\n",
       "      <th>freq</th>\n",
       "      <td>8</td>\n",
       "      <td>1</td>\n",
       "      <td>NaN</td>\n",
       "      <td>9</td>\n",
       "      <td>48</td>\n",
       "      <td>NaN</td>\n",
       "      <td>143</td>\n",
       "      <td>NaN</td>\n",
       "      <td>113</td>\n",
       "      <td>NaN</td>\n",
       "      <td>93</td>\n",
       "    </tr>\n",
       "    <tr>\n",
       "      <th>mean</th>\n",
       "      <td>NaN</td>\n",
       "      <td>NaN</td>\n",
       "      <td>2014.195652</td>\n",
       "      <td>NaN</td>\n",
       "      <td>NaN</td>\n",
       "      <td>9.038043</td>\n",
       "      <td>NaN</td>\n",
       "      <td>5.0</td>\n",
       "      <td>NaN</td>\n",
       "      <td>5.389384e+06</td>\n",
       "      <td>NaN</td>\n",
       "    </tr>\n",
       "    <tr>\n",
       "      <th>std</th>\n",
       "      <td>NaN</td>\n",
       "      <td>NaN</td>\n",
       "      <td>3.838941</td>\n",
       "      <td>NaN</td>\n",
       "      <td>NaN</td>\n",
       "      <td>5.855609</td>\n",
       "      <td>NaN</td>\n",
       "      <td>0.0</td>\n",
       "      <td>NaN</td>\n",
       "      <td>5.184291e+06</td>\n",
       "      <td>NaN</td>\n",
       "    </tr>\n",
       "    <tr>\n",
       "      <th>min</th>\n",
       "      <td>NaN</td>\n",
       "      <td>NaN</td>\n",
       "      <td>1997.000000</td>\n",
       "      <td>NaN</td>\n",
       "      <td>NaN</td>\n",
       "      <td>4.000000</td>\n",
       "      <td>NaN</td>\n",
       "      <td>5.0</td>\n",
       "      <td>NaN</td>\n",
       "      <td>9.793360e+05</td>\n",
       "      <td>NaN</td>\n",
       "    </tr>\n",
       "    <tr>\n",
       "      <th>25%</th>\n",
       "      <td>NaN</td>\n",
       "      <td>NaN</td>\n",
       "      <td>2012.000000</td>\n",
       "      <td>NaN</td>\n",
       "      <td>NaN</td>\n",
       "      <td>5.000000</td>\n",
       "      <td>NaN</td>\n",
       "      <td>5.0</td>\n",
       "      <td>NaN</td>\n",
       "      <td>2.293975e+06</td>\n",
       "      <td>NaN</td>\n",
       "    </tr>\n",
       "    <tr>\n",
       "      <th>50%</th>\n",
       "      <td>NaN</td>\n",
       "      <td>NaN</td>\n",
       "      <td>2015.000000</td>\n",
       "      <td>NaN</td>\n",
       "      <td>NaN</td>\n",
       "      <td>7.000000</td>\n",
       "      <td>NaN</td>\n",
       "      <td>5.0</td>\n",
       "      <td>NaN</td>\n",
       "      <td>4.691185e+06</td>\n",
       "      <td>NaN</td>\n",
       "    </tr>\n",
       "    <tr>\n",
       "      <th>75%</th>\n",
       "      <td>NaN</td>\n",
       "      <td>NaN</td>\n",
       "      <td>2017.000000</td>\n",
       "      <td>NaN</td>\n",
       "      <td>NaN</td>\n",
       "      <td>10.000000</td>\n",
       "      <td>NaN</td>\n",
       "      <td>5.0</td>\n",
       "      <td>NaN</td>\n",
       "      <td>6.635408e+06</td>\n",
       "      <td>NaN</td>\n",
       "    </tr>\n",
       "    <tr>\n",
       "      <th>max</th>\n",
       "      <td>NaN</td>\n",
       "      <td>NaN</td>\n",
       "      <td>2022.000000</td>\n",
       "      <td>NaN</td>\n",
       "      <td>NaN</td>\n",
       "      <td>47.000000</td>\n",
       "      <td>NaN</td>\n",
       "      <td>5.0</td>\n",
       "      <td>NaN</td>\n",
       "      <td>4.587532e+07</td>\n",
       "      <td>NaN</td>\n",
       "    </tr>\n",
       "  </tbody>\n",
       "</table>\n",
       "</div>"
      ],
      "text/plain": [
       "                     name selling_price         year km_driven carrosserie  \\\n",
       "count                 184           184   184.000000       184         184   \n",
       "unique                100           184          NaN       109          10   \n",
       "top     Volkswagen Golf 7        63,500          NaN   150,000     Berline   \n",
       "freq                    8             1          NaN         9          48   \n",
       "mean                  NaN           NaN  2014.195652       NaN         NaN   \n",
       "std                   NaN           NaN     3.838941       NaN         NaN   \n",
       "min                   NaN           NaN  1997.000000       NaN         NaN   \n",
       "25%                   NaN           NaN  2012.000000       NaN         NaN   \n",
       "50%                   NaN           NaN  2015.000000       NaN         NaN   \n",
       "75%                   NaN           NaN  2017.000000       NaN         NaN   \n",
       "max                   NaN           NaN  2022.000000       NaN         NaN   \n",
       "\n",
       "            engine     fuel  seats transmission  prix_assuran     type_ass  \n",
       "count   184.000000      184  184.0          184  1.840000e+02          184  \n",
       "unique         NaN        2    NaN            2           NaN            3  \n",
       "top            NaN  Essence    NaN    Automatic           NaN  tout risque  \n",
       "freq           NaN      143    NaN          113           NaN           93  \n",
       "mean      9.038043      NaN    5.0          NaN  5.389384e+06          NaN  \n",
       "std       5.855609      NaN    0.0          NaN  5.184291e+06          NaN  \n",
       "min       4.000000      NaN    5.0          NaN  9.793360e+05          NaN  \n",
       "25%       5.000000      NaN    5.0          NaN  2.293975e+06          NaN  \n",
       "50%       7.000000      NaN    5.0          NaN  4.691185e+06          NaN  \n",
       "75%      10.000000      NaN    5.0          NaN  6.635408e+06          NaN  \n",
       "max      47.000000      NaN    5.0          NaN  4.587532e+07          NaN  "
      ]
     },
     "execution_count": 3,
     "metadata": {},
     "output_type": "execute_result"
    }
   ],
   "source": [
    "dfassu.describe(include = 'all')"
   ]
  },
  {
   "cell_type": "code",
   "execution_count": 4,
   "metadata": {},
   "outputs": [
    {
     "data": {
      "text/plain": [
       "name             0\n",
       "selling_price    0\n",
       "year             0\n",
       "km_driven        0\n",
       "carrosserie      0\n",
       "engine           0\n",
       "fuel             0\n",
       "seats            0\n",
       "transmission     0\n",
       "prix_assuran     0\n",
       "type_ass         0\n",
       "dtype: int64"
      ]
     },
     "execution_count": 4,
     "metadata": {},
     "output_type": "execute_result"
    }
   ],
   "source": [
    "dfassu.isna().sum()"
   ]
  },
  {
   "cell_type": "code",
   "execution_count": 5,
   "metadata": {},
   "outputs": [
    {
     "name": "stdout",
     "output_type": "stream",
     "text": [
      "<class 'pandas.core.frame.DataFrame'>\n",
      "RangeIndex: 184 entries, 0 to 183\n",
      "Data columns (total 11 columns):\n",
      " #   Column         Non-Null Count  Dtype \n",
      "---  ------         --------------  ----- \n",
      " 0   name           184 non-null    object\n",
      " 1   selling_price  184 non-null    object\n",
      " 2   year           184 non-null    int64 \n",
      " 3   km_driven      184 non-null    object\n",
      " 4   carrosserie    184 non-null    object\n",
      " 5   engine         184 non-null    int64 \n",
      " 6   fuel           184 non-null    object\n",
      " 7   seats          184 non-null    int64 \n",
      " 8   transmission   184 non-null    object\n",
      " 9   prix_assuran   184 non-null    int64 \n",
      " 10  type_ass       184 non-null    object\n",
      "dtypes: int64(4), object(7)\n",
      "memory usage: 15.9+ KB\n"
     ]
    }
   ],
   "source": [
    "dfassu.info()"
   ]
  },
  {
   "cell_type": "code",
   "execution_count": 6,
   "metadata": {},
   "outputs": [
    {
     "data": {
      "text/plain": [
       "array(['Essence', 'Diesel'], dtype=object)"
      ]
     },
     "execution_count": 6,
     "metadata": {},
     "output_type": "execute_result"
    }
   ],
   "source": [
    "dfassu['fuel'].unique()"
   ]
  },
  {
   "cell_type": "code",
   "execution_count": 7,
   "metadata": {},
   "outputs": [
    {
     "data": {
      "text/plain": [
       "array(['routiere+options', 'dommage et collision', 'tout risque'],\n",
       "      dtype=object)"
      ]
     },
     "execution_count": 7,
     "metadata": {},
     "output_type": "execute_result"
    }
   ],
   "source": [
    "dfassu['type_ass'].unique()"
   ]
  },
  {
   "cell_type": "code",
   "execution_count": 8,
   "metadata": {},
   "outputs": [
    {
     "data": {
      "text/plain": [
       "Text(0, 0.5, 'Count of cars')"
      ]
     },
     "execution_count": 8,
     "metadata": {},
     "output_type": "execute_result"
    },
    {
     "data": {
      "image/png": "[encoded data removed]",
      "text/plain": [
       "<Figure size 864x576 with 1 Axes>"
      ]
     },
     "metadata": {
      "needs_background": "light"
     },
     "output_type": "display_data"
    }
   ],
   "source": [
    "plt.figure(figsize = (12, 8))\n",
    "plot = sns.countplot(x = 'year', data = dfassu)\n",
    "plt.xticks(rotation = 90)\n",
    "for p in plot.patches:\n",
    "    plot.annotate(p.get_height(), \n",
    "                        (p.get_x() + p.get_width() / 2.0, \n",
    "                         p.get_height()), \n",
    "                        ha = 'center', \n",
    "                        va = 'center', \n",
    "                        xytext = (0, 5),\n",
    "                        textcoords = 'offset points')\n",
    "\n",
    "plt.title(\"Count of car based on year\")\n",
    "plt.xlabel(\"year\")\n",
    "plt.ylabel(\"Count of cars\")"
   ]
  },
  {
   "cell_type": "code",
   "execution_count": 9,
   "metadata": {},
   "outputs": [
    {
     "data": {
      "text/plain": [
       "Text(0, 0.5, 'Count of cars')"
      ]
     },
     "execution_count": 9,
     "metadata": {},
     "output_type": "execute_result"
    },
    {
     "data": {
      "image/png": "[encoded data removed]",
      "text/plain": [
       "<Figure size 864x576 with 1 Axes>"
      ]
     },
     "metadata": {
      "needs_background": "light"
     },
     "output_type": "display_data"
    }
   ],
   "source": [
    "plt.figure(figsize = (12, 8))\n",
    "plot = sns.countplot(x = 'engine', data = dfassu)\n",
    "plt.xticks(rotation = 90)\n",
    "for p in plot.patches:\n",
    "    plot.annotate(p.get_height(), \n",
    "                        (p.get_x() + p.get_width() / 2.0, \n",
    "                         p.get_height()), \n",
    "                        ha = 'center', \n",
    "                        va = 'center', \n",
    "                        xytext = (0, 5),\n",
    "                        textcoords = 'offset points')\n",
    "\n",
    "plt.title(\"Count of car based on engine power\")\n",
    "plt.xlabel(\"Engine power\")\n",
    "plt.ylabel(\"Count of cars\")"
   ]
  },
  {
   "cell_type": "code",
   "execution_count": 10,
   "metadata": {},
   "outputs": [
    {
     "data": {
      "text/plain": [
       "Text(0, 0.5, 'Count of cars')"
      ]
     },
     "execution_count": 10,
     "metadata": {},
     "output_type": "execute_result"
    },
    {
     "data": {
      "image/png": "[encoded data removed]",
      "text/plain": [
       "<Figure size 864x576 with 1 Axes>"
      ]
     },
     "metadata": {
      "needs_background": "light"
     },
     "output_type": "display_data"
    }
   ],
   "source": [
    "plt.figure(figsize = (12, 8))\n",
    "plot = sns.countplot(x = 'type_ass', data = dfassu)\n",
    "plt.xticks(rotation = 90)\n",
    "for p in plot.patches:\n",
    "    plot.annotate(p.get_height(), \n",
    "                        (p.get_x() + p.get_width() / 2.0, \n",
    "                         p.get_height()), \n",
    "                        ha = 'center', \n",
    "                        va = 'center', \n",
    "                        xytext = (0, 5),\n",
    "                        textcoords = 'offset points')\n",
    "\n",
    "plt.title(\"Count of type_ass\")\n",
    "plt.xlabel(\"type_ass\")\n",
    "plt.ylabel(\"Count of cars\")"
   ]
  },
  {
   "cell_type": "markdown",
   "metadata": {},
   "source": [
    "<font color=#010190 size = 4> In order to change the feature 'Type_ass' from object to integer, we managed to classify the string values"
   ]
  },
  {
   "cell_type": "code",
   "execution_count": 11,
   "metadata": {},
   "outputs": [],
   "source": [
    "dfassu['type_ass'] = dfassu['type_ass'].map({'routiere+options': 0, 'dommage et collision': 1,'tout risque': 2 })"
   ]
  },
  {
   "cell_type": "code",
   "execution_count": 12,
   "metadata": {},
   "outputs": [],
   "source": [
    "dfassu=dfassu.drop(['fuel','name','km_driven','carrosserie','seats','transmission'],axis=1)"
   ]
  },
  {
   "cell_type": "markdown",
   "metadata": {},
   "source": [
    "<font color=#010190 size = 4> Based on our reasearch, the 'fuel', 'name', 'km_driven', 'carrosserie', 'seats' and 'transmission' are not taken into consideration while calculating the insurance price, that's why we dropped them."
   ]
  },
  {
   "cell_type": "code",
   "execution_count": 13,
   "metadata": {},
   "outputs": [],
   "source": [
    "curr_time = datetime.datetime.now()\n",
    "dfassu['age'] = dfassu['year'].apply(lambda x : curr_time.year - x)"
   ]
  },
  {
   "cell_type": "code",
   "execution_count": 14,
   "metadata": {},
   "outputs": [],
   "source": [
    "def toFloat(x):\n",
    "    i = int(x.replace(',', ''))\n",
    "    return i\n",
    "\n",
    "dfassu['selling_price'] = dfassu['selling_price'].map(lambda x: toFloat(x))"
   ]
  },
  {
   "cell_type": "code",
   "execution_count": 15,
   "metadata": {},
   "outputs": [
    {
     "data": {
      "text/html": [
       "<div>\n",
       "<style scoped>\n",
       "    .dataframe tbody tr th:only-of-type {\n",
       "        vertical-align: middle;\n",
       "    }\n",
       "\n",
       "    .dataframe tbody tr th {\n",
       "        vertical-align: top;\n",
       "    }\n",
       "\n",
       "    .dataframe thead th {\n",
       "        text-align: right;\n",
       "    }\n",
       "</style>\n",
       "<table border=\"1\" class=\"dataframe\">\n",
       "  <thead>\n",
       "    <tr style=\"text-align: right;\">\n",
       "      <th></th>\n",
       "      <th>selling_price</th>\n",
       "      <th>year</th>\n",
       "      <th>engine</th>\n",
       "      <th>prix_assuran</th>\n",
       "      <th>type_ass</th>\n",
       "      <th>age</th>\n",
       "    </tr>\n",
       "  </thead>\n",
       "  <tbody>\n",
       "    <tr>\n",
       "      <th>0</th>\n",
       "      <td>63500</td>\n",
       "      <td>2016</td>\n",
       "      <td>4</td>\n",
       "      <td>979336</td>\n",
       "      <td>0</td>\n",
       "      <td>6</td>\n",
       "    </tr>\n",
       "    <tr>\n",
       "      <th>1</th>\n",
       "      <td>64500</td>\n",
       "      <td>2011</td>\n",
       "      <td>6</td>\n",
       "      <td>1053486</td>\n",
       "      <td>0</td>\n",
       "      <td>11</td>\n",
       "    </tr>\n",
       "    <tr>\n",
       "      <th>2</th>\n",
       "      <td>65500</td>\n",
       "      <td>2016</td>\n",
       "      <td>5</td>\n",
       "      <td>1059209</td>\n",
       "      <td>0</td>\n",
       "      <td>6</td>\n",
       "    </tr>\n",
       "    <tr>\n",
       "      <th>3</th>\n",
       "      <td>66500</td>\n",
       "      <td>2003</td>\n",
       "      <td>10</td>\n",
       "      <td>1133332</td>\n",
       "      <td>0</td>\n",
       "      <td>19</td>\n",
       "    </tr>\n",
       "    <tr>\n",
       "      <th>4</th>\n",
       "      <td>67500</td>\n",
       "      <td>2014</td>\n",
       "      <td>12</td>\n",
       "      <td>1509536</td>\n",
       "      <td>1</td>\n",
       "      <td>8</td>\n",
       "    </tr>\n",
       "  </tbody>\n",
       "</table>\n",
       "</div>"
      ],
      "text/plain": [
       "   selling_price  year  engine  prix_assuran  type_ass  age\n",
       "0          63500  2016       4        979336         0    6\n",
       "1          64500  2011       6       1053486         0   11\n",
       "2          65500  2016       5       1059209         0    6\n",
       "3          66500  2003      10       1133332         0   19\n",
       "4          67500  2014      12       1509536         1    8"
      ]
     },
     "execution_count": 15,
     "metadata": {},
     "output_type": "execute_result"
    }
   ],
   "source": [
    "dfassu.head()"
   ]
  },
  {
   "cell_type": "code",
   "execution_count": 16,
   "metadata": {},
   "outputs": [
    {
     "name": "stdout",
     "output_type": "stream",
     "text": [
      "<class 'pandas.core.frame.DataFrame'>\n",
      "RangeIndex: 184 entries, 0 to 183\n",
      "Data columns (total 6 columns):\n",
      " #   Column         Non-Null Count  Dtype\n",
      "---  ------         --------------  -----\n",
      " 0   selling_price  184 non-null    int64\n",
      " 1   year           184 non-null    int64\n",
      " 2   engine         184 non-null    int64\n",
      " 3   prix_assuran   184 non-null    int64\n",
      " 4   type_ass       184 non-null    int64\n",
      " 5   age            184 non-null    int64\n",
      "dtypes: int64(6)\n",
      "memory usage: 8.8 KB\n"
     ]
    }
   ],
   "source": [
    "dfassu.info()"
   ]
  },
  {
   "cell_type": "code",
   "execution_count": 17,
   "metadata": {},
   "outputs": [
    {
     "data": {
      "text/plain": [
       "<AxesSubplot:>"
      ]
     },
     "execution_count": 17,
     "metadata": {},
     "output_type": "execute_result"
    },
    {
     "data": {
      "image/png": "[encoded data removed]",
      "text/plain": [
       "<Figure size 864x864 with 2 Axes>"
      ]
     },
     "metadata": {
      "needs_background": "light"
     },
     "output_type": "display_data"
    }
   ],
   "source": [
    "f = plt.figure(figsize=(12, 12))\n",
    "sns.set()\n",
    "sns.heatmap(dfassu.corr().round(2), annot=True, cmap=\"Blues\")"
   ]
  },
  {
   "cell_type": "markdown",
   "metadata": {},
   "source": [
    "<font color=#010190 size = 4> We noticed that we have a strong correlation between 'type_ass' and 'Prix_assuran' features, 'selling_price' and 'type_ass' features\n",
    "    \n",
    " <font color=#010190 size = 4> Every other thing seems uncorrelated."
   ]
  },
  {
   "cell_type": "code",
   "execution_count": 18,
   "metadata": {},
   "outputs": [
    {
     "data": {
      "text/plain": [
       "Text(0.5, 1.0, 'Insurance price and engine')"
      ]
     },
     "execution_count": 18,
     "metadata": {},
     "output_type": "execute_result"
    },
    {
     "data": {
      "image/png": "[encoded data removed]",
      "text/plain": [
       "<Figure size 1440x504 with 3 Axes>"
      ]
     },
     "metadata": {},
     "output_type": "display_data"
    }
   ],
   "source": [
    "plt.figure(figsize=[20,7])\n",
    "plt.subplot(1,3,1)\n",
    "plt.title(\"Insurance price  and age\")\n",
    "sns.scatterplot(x='age',y='prix_assuran',data=dfassu)\n",
    "\n",
    "plt.subplot(1,3,2)\n",
    "plt.title(\"Insurance price and insurance type\")\n",
    "sns.scatterplot(y='prix_assuran',x='type_ass',data=dfassu)\n",
    "\n",
    "plt.subplot(1,3,3)\n",
    "sns.scatterplot(y='prix_assuran',x='engine',data=dfassu)\n",
    "plt.title(\"Insurance price and engine\")"
   ]
  },
  {
   "cell_type": "markdown",
   "metadata": {},
   "source": [
    "<font color=#010190 size = 4> In the first plot, we notice that the insurance price and the age of the car are positively correlated\n",
    "    \n",
    " <font color=#010190 size = 4> In the second plot, we noticed that the 'Tout risque' insurance type is the most expensive\n",
    "     \n",
    " <font color=#010190 size = 4> In the third plot, we noticed that the price increase when the engine power is high"
   ]
  },
  {
   "cell_type": "markdown",
   "metadata": {},
   "source": [
    " <font color=#010190 size = 6> Model training"
   ]
  },
  {
   "cell_type": "code",
   "execution_count": 19,
   "metadata": {},
   "outputs": [],
   "source": [
    "import math\n",
    "from keras.models import Sequential\n",
    "from keras.layers import Dense\n",
    "from keras.layers import LSTM\n",
    "from sklearn.preprocessing import MinMaxScaler\n",
    "from sklearn.metrics import mean_squared_error"
   ]
  },
  {
   "cell_type": "code",
   "execution_count": 20,
   "metadata": {},
   "outputs": [],
   "source": [
    "X = dfassu.drop(['prix_assuran','year'],axis=1).copy()\n",
    "y = dfassu['prix_assuran'].values.copy() "
   ]
  },
  {
   "cell_type": "code",
   "execution_count": 21,
   "metadata": {},
   "outputs": [],
   "source": [
    "X_train, X_test, y_train, y_test = train_test_split(X, y, test_size=0.20)"
   ]
  },
  {
   "cell_type": "code",
   "execution_count": 22,
   "metadata": {},
   "outputs": [],
   "source": [
    "standardScaler = StandardScaler()\n",
    "standardScaler.fit(X_train)\n",
    "X_train = standardScaler.transform(X_train)\n",
    "X_test = standardScaler.transform(X_test)"
   ]
  },
  {
   "cell_type": "markdown",
   "metadata": {},
   "source": [
    " <font color=#010190 size = 4> We chose the 3 models 'Linear Regression', 'Random Forest Regressor' and 'Gradient Boosting Regressor' because they are the most efficient ones with a small dataset"
   ]
  },
  {
   "cell_type": "code",
   "execution_count": 23,
   "metadata": {
    "tags": []
   },
   "outputs": [],
   "source": [
    "from sklearn import linear_model\n",
    "from sklearn.neighbors import KNeighborsRegressor\n",
    "from sklearn.dummy import DummyRegressor\n",
    "from sklearn import ensemble\n",
    "models=[]\n",
    "\n",
    "LR=LinearRegression().fit(X_train,y_train)\n",
    "models.append(LR)\n",
    "RFR=ensemble.RandomForestRegressor().fit(X_train,y_train)\n",
    "models.append(RFR)\n",
    "\n",
    "GBT=ensemble.GradientBoostingRegressor().fit(X_train,y_train)\n",
    "models.append(GBT)\n"
   ]
  },
  {
   "cell_type": "code",
   "execution_count": 24,
   "metadata": {},
   "outputs": [],
   "source": [
    "from sklearn import metrics\n",
    "def evaluations(model,X_test,y_test):\n",
    "    \n",
    "    scores=metrics.r2_score(y_test,model.predict(X_test))\n",
    "    mse=metrics.mean_squared_error(y_test, model.predict(X_test))\n",
    "    mae=metrics.median_absolute_error(y_test, model.predict(X_test))\n",
    "    rmse=metrics.mean_squared_error(y_test, model.predict(X_test))\n",
    "    print('Model: ',model)\n",
    "    print('Rsquared: ', scores)\n",
    "    print('MAE: ', mae)\n",
    "    print('MSE: ', mse)\n",
    "    print('RMSE: ', rmse)\n",
    "    print('**************************')"
   ]
  },
  {
   "cell_type": "code",
   "execution_count": 25,
   "metadata": {},
   "outputs": [
    {
     "name": "stdout",
     "output_type": "stream",
     "text": [
      "Model:  LinearRegression()\n",
      "Rsquared:  0.5983215251302857\n",
      "MAE:  1252257.6303349677\n",
      "MSE:  3650309935835.5015\n",
      "RMSE:  3650309935835.5015\n",
      "**************************\n",
      "Model:  RandomForestRegressor()\n",
      "Rsquared:  0.8506711913496169\n",
      "MAE:  135279.31999999983\n",
      "MSE:  1357046663005.2197\n",
      "RMSE:  1357046663005.2197\n",
      "**************************\n",
      "Model:  GradientBoostingRegressor()\n",
      "Rsquared:  0.9496027418908247\n",
      "MAE:  250155.13432976464\n",
      "MSE:  457992209003.6279\n",
      "RMSE:  457992209003.6279\n",
      "**************************\n"
     ]
    }
   ],
   "source": [
    "for model in models:\n",
    "    evaluations(model,X_test,y_test)"
   ]
  },
  {
   "cell_type": "markdown",
   "metadata": {},
   "source": [
    "<font color=#010190 size = 4> Both Random Forest Regressor and Gradient Bosst Regressor have the best R squerred, so we chose these two models to work with."
   ]
  },
  {
   "cell_type": "code",
   "execution_count": 28,
   "metadata": {},
   "outputs": [],
   "source": [
    "X1 = dfassu.drop(['type_ass','year'],axis=1).copy()\n",
    "y1 = dfassu['type_ass'].values.copy() "
   ]
  },
  {
   "cell_type": "code",
   "execution_count": 29,
   "metadata": {},
   "outputs": [],
   "source": [
    "X1_train, X1_test, y1_train, y1_test = train_test_split(X1, y1, test_size=0.20)"
   ]
  },
  {
   "cell_type": "markdown",
   "metadata": {},
   "source": [
    "<font color=#010190 size = 4> Data standardization"
   ]
  },
  {
   "cell_type": "code",
   "execution_count": 30,
   "metadata": {},
   "outputs": [],
   "source": [
    "standardScaler.fit(X1_train)\n",
    "X1_train = standardScaler.transform(X1_train)\n",
    "X1_test = standardScaler.transform(X1_test)"
   ]
  },
  {
   "cell_type": "code",
   "execution_count": 32,
   "metadata": {},
   "outputs": [
    {
     "name": "stdout",
     "output_type": "stream",
     "text": [
      "type_ass\n",
      "0    34\n",
      "1    57\n",
      "2    93\n",
      "dtype: int64\n"
     ]
    }
   ],
   "source": [
    "print(dfassu.groupby('type_ass').size())"
   ]
  },
  {
   "cell_type": "markdown",
   "metadata": {},
   "source": [
    "<font color=#010190 size = 8> Car Insurance type prediction"
   ]
  },
  {
   "cell_type": "markdown",
   "metadata": {},
   "source": [
    "<font color=#010190 size = 4> using the KNN"
   ]
  },
  {
   "cell_type": "code",
   "execution_count": 34,
   "metadata": {},
   "outputs": [
    {
     "data": {
      "text/plain": [
       "KNeighborsClassifier()"
      ]
     },
     "execution_count": 34,
     "metadata": {},
     "output_type": "execute_result"
    }
   ],
   "source": [
    "from sklearn.neighbors import KNeighborsClassifier\n",
    "knn = KNeighborsClassifier(n_neighbors = 5)\n",
    "#Next, we need to train the model. In order to train our new model, we will use the ‘fit’ function and pass in our training data as \n",
    "#parameters to fit our model to the training data.\n",
    "# Fit the classifier to the data\n",
    "knn.fit(X1_train,y1_train)"
   ]
  },
  {
   "cell_type": "code",
   "execution_count": 39,
   "metadata": {},
   "outputs": [],
   "source": [
    "from sklearn.metrics import f1_score,confusion_matrix,classification_report\n",
    "\n",
    "def evaluation_std(model):\n",
    "    from sklearn.metrics import plot_confusion_matrix\n",
    "    model.fit(X1_train, y1_train)\n",
    "    ypred = model.predict(X1_test)    \n",
    "    plot_confusion_matrix(model, X1_test, y1_test,display_labels=dfassu.type_ass.unique(),cmap=plt.cm.Blues)\n",
    "    print(classification_report(y1_test, ypred)) "
   ]
  },
  {
   "cell_type": "code",
   "execution_count": 41,
   "metadata": {},
   "outputs": [],
   "source": [
    "y_pred_knn = knn.predict(X1_test)\n"
   ]
  },
  {
   "cell_type": "code",
   "execution_count": 44,
   "metadata": {},
   "outputs": [
    {
     "name": "stdout",
     "output_type": "stream",
     "text": [
      "              precision    recall  f1-score   support\n",
      "\n",
      "           0       0.75      0.60      0.67        10\n",
      "           1       0.62      0.67      0.64        12\n",
      "           2       0.88      0.93      0.90        15\n",
      "\n",
      "    accuracy                           0.76        37\n",
      "   macro avg       0.75      0.73      0.74        37\n",
      "weighted avg       0.76      0.76      0.75        37\n",
      "\n"
     ]
    },
    {
     "data": {
      "image/png": "[encoded data removed]",
      "text/plain": [
       "<Figure size 432x288 with 2 Axes>"
      ]
     },
     "metadata": {},
     "output_type": "display_data"
    }
   ],
   "source": [
    "from sklearn.metrics import classification_report, confusion_matrix\n",
    "accuracies= []\n",
    "report = classification_report(y1_test, y_pred_knn, output_dict=True)\n",
    "accuracies.append(report['accuracy'])\n",
    "evaluation_std(knn)"
   ]
  },
  {
   "cell_type": "markdown",
   "metadata": {},
   "source": [
    "0 : routiere\n",
    "\n",
    "1 : dommage et collision\n",
    "\n",
    "2 : tout risque "
   ]
  },
  {
   "cell_type": "markdown",
   "metadata": {},
   "source": [
    "<font color=#010190 size = 4> Testing the model"
   ]
  },
  {
   "cell_type": "code",
   "execution_count": 44,
   "metadata": {},
   "outputs": [
    {
     "name": "stdout",
     "output_type": "stream",
     "text": [
      "Prediction: [0]\n"
     ]
    }
   ],
   "source": [
    "features = np.array([[63500,4,1268257.97062301,6]])\n",
    "prediction = knn.predict(standardScaler.transform(features))\n",
    "\n",
    "print(\"Prediction: {}\".format(prediction))"
   ]
  }
 ],
 "metadata": {
  "kernelspec": {
   "display_name": "Python 3",
   "language": "python",
   "name": "python3"
  },
  "language_info": {
   "codemirror_mode": {
    "name": "ipython",
    "version": 3
   },
   "file_extension": ".py",
   "mimetype": "text/x-python",
   "name": "python",
   "nbconvert_exporter": "python",
   "pygments_lexer": "ipython3",
   "version": "3.8.3"
  }
 },
 "nbformat": 4,
 "nbformat_minor": 5
}

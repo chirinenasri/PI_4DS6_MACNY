{
 "cells": [
  {
   "cell_type": "markdown",
   "metadata": {},
   "source": [
    "  <font color=#0B5345 size = 12 face=\"Georgia\">  Phase I </font>\n",
    "  \n",
    "  <font color=#1A998 size = 6 face=\"Georgia\">  Group Members </font>\n",
    "  \n",
    "  Dekhil Nour\n",
    "  \n",
    "  Mazigh Arij\n",
    "  \n",
    "  Nasri Chirine\n",
    "  \n",
    "  Benmoussa Yacine\n",
    "  \n",
    "  Medimegh Mohamed\n",
    "\n",
    " <font color=#1A998 size = 6 face=\"Georgia\">  Class </font> \n",
    " \n",
    " 4DS6\n",
    " \n",
    " <font color=#1A998 size = 6 face=\"Georgia\">  Project's Topic </font>\n",
    " \n",
    " Application for the automatic generation of car insurance"
   ]
  },
  {
   "cell_type": "markdown",
   "metadata": {},
   "source": [
    "# Libraries Import"
   ]
  },
  {
   "cell_type": "code",
   "execution_count": 1,
   "metadata": {},
   "outputs": [],
   "source": [
    "import scipy.misc\n",
    "import pandas as pd\n",
    "import numpy as np\n",
    "import matplotlib.pyplot as plt\n",
    "#%matplotlib inline\n",
    "from skimage.io import imread, imshow\n",
    "import pytesseract\n",
    "from os import listdir\n",
    "from os.path import isfile, join\n",
    "import numpy\n",
    "import cv2\n",
    "import argparse\n",
    "from PIL import Image\n",
    "import glob "
   ]
  },
  {
   "cell_type": "markdown",
   "metadata": {},
   "source": [
    "# Data understanding"
   ]
  },
  {
   "cell_type": "markdown",
   "metadata": {},
   "source": [
    "![](data.JPG)"
   ]
  },
  {
   "cell_type": "markdown",
   "metadata": {},
   "source": [
    "# CINs and GrayCards Database Import"
   ]
  },
  {
   "cell_type": "markdown",
   "metadata": {},
   "source": [
    " <font color=#6A098 size = 5 face=\"Georgia\"> We imported the collected images of CINs and Gray Cards and stocked them in \"images\" using numpy and cv2"
   ]
  },
  {
   "cell_type": "code",
   "execution_count": 2,
   "metadata": {},
   "outputs": [],
   "source": [
    "mypath= r'C:/Users/USER/Desktop/images'\n",
    "onlyfiles = [ f for f in listdir(mypath) if isfile(join(mypath,f)) ]\n",
    "images = numpy.empty(len(onlyfiles), dtype=object)\n",
    "for n in range(0, len(onlyfiles)):\n",
    "    images[n] = cv2.imread(join(mypath,onlyfiles[n]))"
   ]
  },
  {
   "cell_type": "markdown",
   "metadata": {},
   "source": [
    "# Anomalies Detection"
   ]
  },
  {
   "cell_type": "markdown",
   "metadata": {},
   "source": [
    "## Size "
   ]
  },
  {
   "cell_type": "code",
   "execution_count": 3,
   "metadata": {},
   "outputs": [],
   "source": [
    "size = [None] * len(onlyfiles)\n",
    "# Putting images size in list \"size\" \n",
    "for n in range(0, len(onlyfiles)):\n",
    "    s=images[n].size\n",
    "    size[n]=s"
   ]
  },
  {
   "cell_type": "code",
   "execution_count": 4,
   "metadata": {},
   "outputs": [
    {
     "data": {
      "text/plain": [
       "Text(0.5, 1.0, 'Image size')"
      ]
     },
     "execution_count": 4,
     "metadata": {},
     "output_type": "execute_result"
    },
    {
     "data": {
      "image/png": "[encoded data removed]",
      "text/plain": [
       "<Figure size 432x288 with 1 Axes>"
      ]
     },
     "metadata": {
      "needs_background": "light"
     },
     "output_type": "display_data"
    }
   ],
   "source": [
    "f=range(len(size))\n",
    "plt.bar(f,size)\n",
    "plt.title('Image size')"
   ]
  },
  {
   "cell_type": "markdown",
   "metadata": {},
   "source": [
    "## Shape"
   ]
  },
  {
   "cell_type": "code",
   "execution_count": 5,
   "metadata": {},
   "outputs": [],
   "source": [
    "shape = [None] * len(onlyfiles)\n",
    "for n in range(0, len(onlyfiles)):\n",
    "    s=images[n].shape\n",
    "    shape [n]=s"
   ]
  },
  {
   "cell_type": "code",
   "execution_count": 6,
   "metadata": {},
   "outputs": [
    {
     "data": {
      "text/plain": [
       "[(128, 231, 3),\n",
       " (900, 675, 3),\n",
       " (816, 612, 3),\n",
       " (720, 960, 3),\n",
       " (709, 945, 3),\n",
       " (221, 352, 3),\n",
       " (221, 352, 3),\n",
       " (1155, 2048, 3),\n",
       " (960, 528, 3),\n",
       " (540, 720, 3),\n",
       " (343, 500, 3),\n",
       " (1600, 720, 3),\n",
       " (259, 194, 3),\n",
       " (576, 960, 3),\n",
       " (1080, 1440, 3),\n",
       " (300, 500, 3),\n",
       " (401, 664, 3),\n",
       " (360, 480, 3),\n",
       " (259, 194, 3),\n",
       " (459, 720, 3),\n",
       " (608, 1080, 3),\n",
       " (1040, 780, 3),\n",
       " (546, 960, 3),\n",
       " (194, 259, 3),\n",
       " (175, 288, 3)]"
      ]
     },
     "execution_count": 6,
     "metadata": {},
     "output_type": "execute_result"
    }
   ],
   "source": [
    "shape"
   ]
  },
  {
   "cell_type": "markdown",
   "metadata": {},
   "source": [
    " <font color=#6A098 size = 5 face=\"Georgia\"> We can notice based on the barplot and the shapes the big differences in images, what makes recizing them a necessity in this case. </font>"
   ]
  },
  {
   "cell_type": "markdown",
   "metadata": {
    "tags": []
   },
   "source": [
    "## Angle"
   ]
  },
  {
   "cell_type": "code",
   "execution_count": 7,
   "metadata": {},
   "outputs": [],
   "source": [
    "#this function detects the angle of the text in the image\n",
    "def angle (image):\n",
    "    gray = cv2.cvtColor(image, cv2.COLOR_BGR2GRAY)\n",
    "    gray = cv2.bitwise_not(gray)\n",
    "\n",
    "    thresh = cv2.threshold(gray, 0, 255,cv2.THRESH_BINARY | cv2.THRESH_OTSU)[1]\n",
    "\n",
    "\n",
    "    coords = np.column_stack(np.where(thresh > 0))\n",
    "    angle = cv2.minAreaRect(coords)[-1]\n",
    "\n",
    "    print(angle)"
   ]
  },
  {
   "cell_type": "code",
   "execution_count": 8,
   "metadata": {},
   "outputs": [
    {
     "name": "stdout",
     "output_type": "stream",
     "text": [
      "90.0\n",
      "90.0\n",
      "90.0\n",
      "90.0\n",
      "90.0\n",
      "-0.0\n",
      "-0.0\n",
      "0.0\n",
      "90.0\n",
      "90.0\n",
      "0.8263241052627563\n",
      "90.0\n",
      "90.0\n",
      "90.0\n",
      "90.0\n",
      "0.0\n",
      "90.0\n",
      "90.0\n",
      "90.0\n",
      "90.0\n",
      "90.0\n",
      "0.0\n",
      "90.0\n",
      "90.0\n",
      "0.8069294691085815\n"
     ]
    }
   ],
   "source": [
    "#Comparing images angles\n",
    "for n in range(0, len(onlyfiles)):\n",
    "    angle(images[n])"
   ]
  },
  {
   "cell_type": "markdown",
   "metadata": {},
   "source": [
    " <font color=#6A098 size = 5 face=\"Georgia\"> We can see that not all the images are in the right angle which makes the data extarcting not exact that's why we have to put all the images in right angle's degree. </font>"
   ]
  },
  {
   "cell_type": "markdown",
   "metadata": {
    "tags": []
   },
   "source": [
    "## Brightness"
   ]
  },
  {
   "cell_type": "code",
   "execution_count": 9,
   "metadata": {},
   "outputs": [],
   "source": [
    "#This function detects the brightness of each image\n",
    "def bright(imag):\n",
    "    imag = Image.fromarray(imag)\n",
    "    imag = imag.convert ('RGB')\n",
    "    \n",
    " #coordinates of the pixel\n",
    "    X,Y = 0,0\n",
    " #Get RGB\n",
    "    pixelRGB = imag.getpixel((X,Y))\n",
    "    R,G,B = pixelRGB\n",
    "    brightness = sum([R,G,B])/3 ##0 is dark (black) and 255 is bright (white)\n",
    "    print(brightness)\n",
    "    return  brightness"
   ]
  },
  {
   "cell_type": "code",
   "execution_count": 10,
   "metadata": {},
   "outputs": [
    {
     "name": "stdout",
     "output_type": "stream",
     "text": [
      "193.0\n",
      "39.333333333333336\n",
      "129.0\n",
      "5.666666666666667\n",
      "19.666666666666668\n",
      "11.0\n",
      "11.0\n",
      "152.66666666666666\n",
      "10.0\n",
      "117.0\n",
      "255.0\n",
      "0.0\n",
      "16.0\n",
      "35.0\n",
      "6.0\n",
      "199.66666666666666\n",
      "21.666666666666668\n",
      "143.66666666666666\n",
      "209.0\n",
      "220.0\n",
      "18.333333333333332\n",
      "195.33333333333334\n",
      "86.66666666666667\n",
      "38.0\n",
      "226.66666666666666\n"
     ]
    }
   ],
   "source": [
    "#Brightness variation list\n",
    "liste = [None] * len(onlyfiles)\n",
    "for n in range(0, len(onlyfiles)):\n",
    "    s=bright(images[n])\n",
    "    liste [n]=s"
   ]
  },
  {
   "cell_type": "code",
   "execution_count": 11,
   "metadata": {},
   "outputs": [
    {
     "data": {
      "text/plain": [
       "Text(0.5, 1.0, 'Image s Brightness')"
      ]
     },
     "execution_count": 11,
     "metadata": {},
     "output_type": "execute_result"
    },
    {
     "data": {
      "image/png": "[encoded data removed]",
      "text/plain": [
       "<Figure size 432x288 with 1 Axes>"
      ]
     },
     "metadata": {
      "needs_background": "light"
     },
     "output_type": "display_data"
    }
   ],
   "source": [
    "#brightness plot\n",
    "f=range(len(liste))\n",
    "plt.bar(f,liste)\n",
    "plt.title('Image s Brightness')"
   ]
  },
  {
   "cell_type": "markdown",
   "metadata": {},
   "source": [
    "<font color=#6A098 size = 5 face=\"Georgia\"> Refering to the previous results, it's clear that the brightness vary from a picture to an other. Both hight and low brightness may effect the process of data extraction."
   ]
  },
  {
   "cell_type": "markdown",
   "metadata": {},
   "source": [
    "## Blur"
   ]
  },
  {
   "cell_type": "code",
   "execution_count": 12,
   "metadata": {},
   "outputs": [
    {
     "data": {
      "image/png": "[encoded data removed]",
      "text/plain": [
       "<Figure size 720x576 with 1 Axes>"
      ]
     },
     "metadata": {
      "needs_background": "light"
     },
     "output_type": "display_data"
    }
   ],
   "source": [
    "#Calling the file blur-detection.py in which we find the necessary functions to classify images(blurry/not blurry).\n",
    "%run blur-detection.py --images images"
   ]
  },
  {
   "cell_type": "markdown",
   "metadata": {},
   "source": [
    "<font color=#6A098 size = 5 face=\"Georgia\"> As we can see in the plot, we have an important number of blurry images."
   ]
  },
  {
   "cell_type": "markdown",
   "metadata": {},
   "source": [
    "# Shapes detection "
   ]
  },
  {
   "cell_type": "code",
   "execution_count": 13,
   "metadata": {},
   "outputs": [],
   "source": [
    "import cv2\n",
    "import numpy as np\n",
    "from matplotlib import pyplot as plt\n",
    " \n",
    "# reading image\n",
    "img = cv2.imread('C:/Users/USER/Desktop/1.png')\n",
    "  \n",
    "# converting image into grayscale image\n",
    "gray = cv2.cvtColor(img, cv2.COLOR_BGR2GRAY)\n",
    "  \n",
    "# setting threshold of gray image\n",
    "_, threshold = cv2.threshold(gray, 127, 255, cv2.THRESH_BINARY)\n",
    "  \n",
    "# using a findContours() function\n",
    "contours, _ = cv2.findContours(\n",
    "    threshold, cv2.RETR_TREE, cv2.CHAIN_APPROX_SIMPLE)\n",
    "  \n",
    "i = 0\n",
    "sizeOfShapes = []\n",
    "# list for storing names of shapes\n",
    "for contour in contours:\n",
    "  \n",
    "    # here we are ignoring first counter because \n",
    "    # findcontour function detects whole image as shape\n",
    "    if i == 0:\n",
    "        i = 1\n",
    "        continue\n",
    "  \n",
    "    # cv2.approxPloyDP() function to approximate the shape\n",
    "    approx = cv2.approxPolyDP(\n",
    "        contour, 0.01 * cv2.arcLength(contour, True), True)\n",
    "    \n",
    "    sizeOfShapes.append(cv2.arcLength(contour, True))\n",
    "   \n",
    "    # using drawContours() function\n",
    "    cv2.drawContours(img, [contour], 0, (255, 255, 255), 3)\n",
    "  \n",
    "    # finding center point of shape\n",
    "    M = cv2.moments(contour)\n",
    "    if M['m00'] != 0.0:\n",
    "        x = int(M['m10']/M['m00'])\n",
    "        y = int(M['m01']/M['m00'])\n",
    "   \n",
    "  \n",
    "# displaying the image after drawing contours\n",
    "cv2.imshow('shapes', img)\n",
    "  \n",
    "cv2.waitKey(0)\n",
    "cv2.destroyAllWindows()"
   ]
  },
  {
   "cell_type": "code",
   "execution_count": 14,
   "metadata": {},
   "outputs": [
    {
     "data": {
      "text/plain": [
       "1647.7817443609238"
      ]
     },
     "execution_count": 14,
     "metadata": {},
     "output_type": "execute_result"
    }
   ],
   "source": [
    "max(sizeOfShapes)"
   ]
  },
  {
   "cell_type": "markdown",
   "metadata": {},
   "source": [
    "Output : "
   ]
  },
  {
   "cell_type": "markdown",
   "metadata": {},
   "source": [
    "![](exple.JPG)"
   ]
  },
  {
   "cell_type": "markdown",
   "metadata": {},
   "source": [
    "<font color=#6A098 size = 5 face=\"Georgia\"> We tried to find the different shapes existant in the images and based on that we managed to detect the biggest shape that we may use to facilitate cropping the image."
   ]
  },
  {
   "cell_type": "markdown",
   "metadata": {},
   "source": [
    "# Predection dataset"
   ]
  },
  {
   "cell_type": "markdown",
   "metadata": {},
   "source": [
    "<font color=#6A098 size = 5 face=\"Georgia\"> Our dataset was collected thanks to the scrapping from different websites such as automobile.tn and tayara.tn"
   ]
  },
  {
   "cell_type": "code",
   "execution_count": 15,
   "metadata": {},
   "outputs": [],
   "source": [
    "# Importing the Credit Card Default Dataset\n",
    "dataset = pd.read_excel (r'run_results1.xlsx')"
   ]
  },
  {
   "cell_type": "code",
   "execution_count": 16,
   "metadata": {},
   "outputs": [
    {
     "name": "stdout",
     "output_type": "stream",
     "text": [
      "<class 'pandas.core.frame.DataFrame'>\n",
      "RangeIndex: 184 entries, 0 to 183\n",
      "Data columns (total 7 columns):\n",
      " #   Column             Non-Null Count  Dtype \n",
      "---  ------             --------------  ----- \n",
      " 0   name               184 non-null    object\n",
      " 1   prix               184 non-null    int64 \n",
      " 2   year               184 non-null    int64 \n",
      " 3   kms                184 non-null    int64 \n",
      " 4   carrosserie        184 non-null    object\n",
      " 5   puissance_fiscale  184 non-null    int64 \n",
      " 6   energy             184 non-null    object\n",
      "dtypes: int64(4), object(3)\n",
      "memory usage: 10.2+ KB\n"
     ]
    }
   ],
   "source": [
    "#diplaying the dataset information\n",
    "dataset.info()"
   ]
  },
  {
   "cell_type": "code",
   "execution_count": 17,
   "metadata": {},
   "outputs": [
    {
     "name": "stdout",
     "output_type": "stream",
     "text": [
      "(184, 7)\n"
     ]
    }
   ],
   "source": [
    "print(dataset.shape)"
   ]
  },
  {
   "cell_type": "code",
   "execution_count": 18,
   "metadata": {},
   "outputs": [
    {
     "data": {
      "text/html": [
       "<div>\n",
       "<style scoped>\n",
       "    .dataframe tbody tr th:only-of-type {\n",
       "        vertical-align: middle;\n",
       "    }\n",
       "\n",
       "    .dataframe tbody tr th {\n",
       "        vertical-align: top;\n",
       "    }\n",
       "\n",
       "    .dataframe thead th {\n",
       "        text-align: right;\n",
       "    }\n",
       "</style>\n",
       "<table border=\"1\" class=\"dataframe\">\n",
       "  <thead>\n",
       "    <tr style=\"text-align: right;\">\n",
       "      <th></th>\n",
       "      <th>prix</th>\n",
       "      <th>year</th>\n",
       "      <th>kms</th>\n",
       "      <th>puissance_fiscale</th>\n",
       "    </tr>\n",
       "  </thead>\n",
       "  <tbody>\n",
       "    <tr>\n",
       "      <th>count</th>\n",
       "      <td>184.000000</td>\n",
       "      <td>184.000000</td>\n",
       "      <td>184.000000</td>\n",
       "      <td>184.000000</td>\n",
       "    </tr>\n",
       "    <tr>\n",
       "      <th>mean</th>\n",
       "      <td>155000.000000</td>\n",
       "      <td>2014.195652</td>\n",
       "      <td>123605.978261</td>\n",
       "      <td>9.038043</td>\n",
       "    </tr>\n",
       "    <tr>\n",
       "      <th>std</th>\n",
       "      <td>53260.366753</td>\n",
       "      <td>3.838941</td>\n",
       "      <td>64295.814115</td>\n",
       "      <td>5.855609</td>\n",
       "    </tr>\n",
       "    <tr>\n",
       "      <th>min</th>\n",
       "      <td>63500.000000</td>\n",
       "      <td>1997.000000</td>\n",
       "      <td>700.000000</td>\n",
       "      <td>4.000000</td>\n",
       "    </tr>\n",
       "    <tr>\n",
       "      <th>25%</th>\n",
       "      <td>109250.000000</td>\n",
       "      <td>2012.000000</td>\n",
       "      <td>80000.000000</td>\n",
       "      <td>5.000000</td>\n",
       "    </tr>\n",
       "    <tr>\n",
       "      <th>50%</th>\n",
       "      <td>155000.000000</td>\n",
       "      <td>2015.000000</td>\n",
       "      <td>116500.000000</td>\n",
       "      <td>7.000000</td>\n",
       "    </tr>\n",
       "    <tr>\n",
       "      <th>75%</th>\n",
       "      <td>200750.000000</td>\n",
       "      <td>2017.000000</td>\n",
       "      <td>155250.000000</td>\n",
       "      <td>10.000000</td>\n",
       "    </tr>\n",
       "    <tr>\n",
       "      <th>max</th>\n",
       "      <td>246500.000000</td>\n",
       "      <td>2022.000000</td>\n",
       "      <td>360000.000000</td>\n",
       "      <td>47.000000</td>\n",
       "    </tr>\n",
       "  </tbody>\n",
       "</table>\n",
       "</div>"
      ],
      "text/plain": [
       "                prix         year            kms  puissance_fiscale\n",
       "count     184.000000   184.000000     184.000000         184.000000\n",
       "mean   155000.000000  2014.195652  123605.978261           9.038043\n",
       "std     53260.366753     3.838941   64295.814115           5.855609\n",
       "min     63500.000000  1997.000000     700.000000           4.000000\n",
       "25%    109250.000000  2012.000000   80000.000000           5.000000\n",
       "50%    155000.000000  2015.000000  116500.000000           7.000000\n",
       "75%    200750.000000  2017.000000  155250.000000          10.000000\n",
       "max    246500.000000  2022.000000  360000.000000          47.000000"
      ]
     },
     "execution_count": 18,
     "metadata": {},
     "output_type": "execute_result"
    }
   ],
   "source": [
    "# Displaying statistics \n",
    "dataset.describe()"
   ]
  },
  {
   "cell_type": "code",
   "execution_count": 19,
   "metadata": {},
   "outputs": [
    {
     "data": {
      "text/plain": [
       "False"
      ]
     },
     "execution_count": 19,
     "metadata": {},
     "output_type": "execute_result"
    }
   ],
   "source": [
    "#checking if there's any NaN values\n",
    "dataset.isnull().values.any()"
   ]
  },
  {
   "cell_type": "code",
   "execution_count": 20,
   "metadata": {},
   "outputs": [
    {
     "data": {
      "text/plain": [
       "0"
      ]
     },
     "execution_count": 20,
     "metadata": {},
     "output_type": "execute_result"
    }
   ],
   "source": [
    "#checking the number of NaN values\n",
    "dataset.isnull().sum().sum()"
   ]
  }
 ],
 "metadata": {
  "kernelspec": {
   "display_name": "Python 3",
   "language": "python",
   "name": "python3"
  },
  "language_info": {
   "codemirror_mode": {
    "name": "ipython",
    "version": 3
   },
   "file_extension": ".py",
   "mimetype": "text/x-python",
   "name": "python",
   "nbconvert_exporter": "python",
   "pygments_lexer": "ipython3",
   "version": "3.8.3"
  }
 },
 "nbformat": 4,
 "nbformat_minor": 5
}

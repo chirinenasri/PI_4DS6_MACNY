{
 "cells": [
  {
   "cell_type": "code",
   "execution_count": 1,
   "metadata": {},
   "outputs": [],
   "source": [
    "import cv2 \n",
    "import pytesseract\n",
    "import numpy as np\n",
    "from skimage.io import imread , imshow\n",
    "from matplotlib import pyplot as plt\n",
    "from imutils.perspective import four_point_transform\n",
    "import imutils\n",
    "import scipy.misc\n",
    "import pandas as pd\n",
    "\n",
    "#%matplotlib inline\n",
    "\n",
    "\n",
    "from os import listdir\n",
    "from os.path import isfile, join\n",
    "import argparse\n",
    "from PIL import Image\n",
    "import glob "
   ]
  },
  {
   "cell_type": "markdown",
   "metadata": {},
   "source": [
    "# Preprocessing + Save Image"
   ]
  },
  {
   "cell_type": "code",
   "execution_count": 2,
   "metadata": {},
   "outputs": [],
   "source": [
    "def detect_angle(image):\n",
    "    mask = np.zeros(image.shape, dtype=np.uint8)\n",
    "    gray = cv2.cvtColor(image, cv2.COLOR_BGR2GRAY)\n",
    "    blur = cv2.GaussianBlur(gray, (3,3), 0)\n",
    "    adaptive = cv2.adaptiveThreshold(blur,255,cv2.ADAPTIVE_THRESH_GAUSSIAN_C, cv2.THRESH_BINARY_INV,15,4)\n",
    "\n",
    "    cnts = cv2.findContours(adaptive, cv2.RETR_TREE, cv2.CHAIN_APPROX_SIMPLE)\n",
    "    cnts = cnts[0] if len(cnts) == 2 else cnts[1]\n",
    "\n",
    "    for c in cnts:\n",
    "        area = cv2.contourArea(c)\n",
    "        if area < 45000 and area > 20:\n",
    "            cv2.drawContours(mask, [c], -1, (255,255,255), -1)\n",
    "\n",
    "    mask = cv2.cvtColor(mask, cv2.COLOR_BGR2GRAY)\n",
    "    h, w = mask.shape\n",
    "   \n",
    "    # Horizontal\n",
    "    if w > h:\n",
    "        left = mask[0:h, 0:0+w//2]\n",
    "        right = mask[0:h, w//2:]\n",
    "        left_pixels = cv2.countNonZero(left)\n",
    "        right_pixels = cv2.countNonZero(right)\n",
    "        return 0 if left_pixels >= right_pixels else 180\n",
    "    # Vertical\n",
    "    else:\n",
    "        top = mask[0:h//2, 0:w]\n",
    "        bottom = mask[h//2:, 0:w]\n",
    "        top_pixels = cv2.countNonZero(top)\n",
    "        bottom_pixels = cv2.countNonZero(bottom)\n",
    "        return 90 if bottom_pixels >= top_pixels else 270\n",
    "\n"
   ]
  },
  {
   "cell_type": "code",
   "execution_count": 3,
   "metadata": {},
   "outputs": [],
   "source": [
    "# Load image, grayscale, Gaussian blur, Otsu's threshold\n",
    "def imgprepro(imge):\n",
    "   \n",
    "    folder = r'C:/Users/Chirine/Desktop/Projet DS/cin/cin'\n",
    "    image = cv2.imread(os.path.join(folder,imge))\n",
    "    gray = cv2.cvtColor(image, cv2.COLOR_BGR2GRAY)\n",
    "    blur = cv2.GaussianBlur(gray, (7,7), 0)\n",
    "    thresh = cv2.threshold(blur, 0, 255, cv2.THRESH_BINARY + cv2.THRESH_OTSU)[1]\n",
    "\n",
    "    # Find contours and sort for largest contour\n",
    "    cnts = cv2.findContours(thresh, cv2.RETR_EXTERNAL,cv2.CHAIN_APPROX_SIMPLE)\n",
    "    cnts = cnts[0] if len(cnts) == 2 else cnts[1]\n",
    "    cnts = sorted(cnts, key=cv2.contourArea, reverse=True)\n",
    "    displayCnt = None\n",
    "\n",
    "    for c in cnts:\n",
    "        # Perform contour approximation\n",
    "        peri = cv2.arcLength(c, True)\n",
    "        approx = cv2.approxPolyDP(c, 0.02 * peri, True)\n",
    "        if len(approx) == 4:\n",
    "            displayCnt = approx\n",
    "            break\n",
    "\n",
    "    # Obtain birds' eye view of image\n",
    "    warped = four_point_transform(image, displayCnt.reshape(4, 2))\n",
    "\n",
    "\n",
    "    angle = detect_angle(warped)\n",
    "    #print(angle)\n",
    "\n",
    "    image = warped\n",
    "\n",
    "    if angle == 90:\n",
    "        rot = imutils.rotate_bound(image, angle= 90)\n",
    "    elif angle == 270:\n",
    "        rot = imutils.rotate_bound(image, angle= 270)\n",
    "    elif angle == 180:\n",
    "        rot = imutils.rotate_bound(image, angle= 180)\n",
    "    else : \n",
    "        rot = image\n",
    "    path = 'C:/Users/Chirine/Desktop/Projet DS/baseimage/images_finals/CIN/' + imge \n",
    "    plt.imsave(path,rot)"
   ]
  },
  {
   "cell_type": "code",
   "execution_count": 4,
   "metadata": {},
   "outputs": [],
   "source": [
    "mypath= r'C:/Users/Chirine/Desktop/Projet DS/cin/cin'\n",
    "import os\n",
    "def load_images_from_folder(folder):\n",
    "    images = []\n",
    "    for filename in os.listdir(folder):\n",
    "        img = cv2.imread(os.path.join(folder,filename))\n",
    "        images.append(filename)\n",
    "        #print(filename)\n",
    "    return images\n",
    "images = []\n",
    "images = load_images_from_folder(mypath)\n",
    "\n",
    "for n in range(0, len(images)):\n",
    "    imgprepro(images[n])"
   ]
  },
  {
   "cell_type": "code",
   "execution_count": null,
   "metadata": {},
   "outputs": [],
   "source": []
  },
  {
   "cell_type": "code",
   "execution_count": null,
   "metadata": {},
   "outputs": [],
   "source": []
  }
 ],
 "metadata": {
  "kernelspec": {
   "display_name": "Python 3",
   "language": "python",
   "name": "python3"
  },
  "language_info": {
   "codemirror_mode": {
    "name": "ipython",
    "version": 3
   },
   "file_extension": ".py",
   "mimetype": "text/x-python",
   "name": "python",
   "nbconvert_exporter": "python",
   "pygments_lexer": "ipython3",
   "version": "3.8.3"
  }
 },
 "nbformat": 4,
 "nbformat_minor": 4
}
